{
 "cells": [
  {
   "cell_type": "markdown",
   "metadata": {},
   "source": [
    "Miclael Nielsen's Neural Network\n",
    "\n",
    "http://neuralnetworksanddeeplearning.com/chap1.html"
   ]
  },
  {
   "cell_type": "code",
   "execution_count": 1,
   "metadata": {
    "collapsed": true
   },
   "outputs": [],
   "source": [
    "import numpy as np"
   ]
  },
  {
   "cell_type": "code",
   "execution_count": 62,
   "metadata": {
    "collapsed": true
   },
   "outputs": [],
   "source": [
    "def sigmoid(z):\n",
    "    return 1.0 / (1.0 + np.exp(-z))\n",
    "\n",
    "def sigmoid_prime(z):\n",
    "    return sigmoid(z)*(1-sigmoid(z))"
   ]
  },
  {
   "cell_type": "code",
   "execution_count": 61,
   "metadata": {
    "collapsed": true
   },
   "outputs": [],
   "source": [
    "class Network(object):\n",
    "    \n",
    "    def __init__(self, layer_sizes):\n",
    "        self.num_layers = len(layer_sizes)\n",
    "        self.layer_sizes = layer_sizes\n",
    "        \n",
    "        self.biases  = [np.random.randn(l, 1) for l in layer_sizes[1:]]\n",
    "        self.weights = [np.random.randn(dest, source) \n",
    "                        for (source, dest) in zip(layer_sizes[:-1], layer_sizes[1:])]\n",
    "        \n",
    "    def feedforward(self, inp):\n",
    "        for b, w in zip(self.biases, self.weights):\n",
    "            inp = sigmoid(np.dot(w, inp) + b)\n",
    "        return inp\n",
    "        \n",
    "    def SGD(self, x, y, epochs, batch_size, learning_rate):\n",
    "        n = len(x) # num instances\n",
    "        num_batches = n // batch_size\n",
    "        \n",
    "        for e in range(epochs):\n",
    "            for b in range(num_batches):\n",
    "                mask = np.random.randint(0, n, batch_size)\n",
    "                x_batch = x[mask, :]\n",
    "                y_batch = y[mask]\n",
    "                \n",
    "                self.update_mini_batch(x_batch, y_batch, learning_rate)\n",
    "                \n",
    "            print(\"Epoch {0} completed\".format(e))\n",
    "\n",
    "    def update_mini_batch(self, x_batch, y_batch, learning_rate):\n",
    "        n = len(x_batch)\n",
    "        grads_b = [np.zeros(b.shape) for b in self.biases]\n",
    "        grads_w = [np.zeros(w.shape) for w in self.weights]\n",
    "        \n",
    "        for x, y in zip(x_batch, y_batch):\n",
    "            delta_b, delta_w = self.backprop(x, y)\n",
    "            grads_b = [g + d for g, d in zip(grads_b, delta_b)]\n",
    "            grads_w = [g + d for g, d in zip(grads_w, delta_w)]\n",
    "            \n",
    "        self.weights = [w - (learning_rate/n) * gw for w, gw in zip(self.weights, grads_w)]\n",
    "        self.biases  = [b - (learning_rate/n) * gb for b, gb in zip(self.biases, grads_b)]\n",
    "        \n",
    "    def backprop(self, x, y):\n",
    "        delta_b = [np.zeros(b.shape) for b in self.biases]\n",
    "        delta_w = [np.zeros(w.shape) for w in self.weights]\n",
    "        \n",
    "        # forward pass\n",
    "        activation = x\n",
    "        activations = [x]\n",
    "        zs = []\n",
    "        for w, b in zip(self.weights, self.biases):\n",
    "            z = np.dot(w, activation) + b\n",
    "            zs.append(z)\n",
    "            activation = sigmoid(z)\n",
    "            activations.append(activation)\n",
    "        \n",
    "        # backward pass\n",
    "        delta = self.cost_derivative(activations[-1], y) * sigmoid_prime(zs[-1])\n",
    "        delta_b[-1] = delta\n",
    "        delta_w[-1] = np.dot(delta, activations[-2].transpose())\n",
    "        \n",
    "        for l in range(2, self.num_layers):\n",
    "            z = zs[-l]\n",
    "            sp = sigmoid_prime(z)\n",
    "            \n",
    "            \n",
    "\n",
    "    def cost_derivative(self, output_activations, y):\n",
    "        return (output_activations - y)"
   ]
  },
  {
   "cell_type": "code",
   "execution_count": 56,
   "metadata": {
    "collapsed": true
   },
   "outputs": [],
   "source": [
    "x = np.array([1, 2, 3, 4, 5, 6, 7, 8, 9, 0])"
   ]
  },
  {
   "cell_type": "code",
   "execution_count": 60,
   "metadata": {},
   "outputs": [
    {
     "data": {
      "text/plain": [
       "array([2, 1])"
      ]
     },
     "execution_count": 60,
     "metadata": {},
     "output_type": "execute_result"
    }
   ],
   "source": [
    "n = np.random.randint(0, 10, 2)\n",
    "x[n]"
   ]
  },
  {
   "cell_type": "code",
   "execution_count": 24,
   "metadata": {
    "collapsed": true
   },
   "outputs": [],
   "source": [
    "net = Network([2, 4, 3])"
   ]
  },
  {
   "cell_type": "code",
   "execution_count": 27,
   "metadata": {},
   "outputs": [
    {
     "name": "stdout",
     "output_type": "stream",
     "text": [
      "[[1]\n",
      " [2]]\n",
      "(4, 2) (2, 1)\n",
      "(3, 4) (4, 1)\n"
     ]
    },
    {
     "data": {
      "text/plain": [
       "array([[ 0.78967759],\n",
       "       [ 0.16309279],\n",
       "       [ 0.11039694]])"
      ]
     },
     "execution_count": 27,
     "metadata": {},
     "output_type": "execute_result"
    }
   ],
   "source": [
    "inp = np.array([1, 2]).reshape(-1, 1)\n",
    "print(inp)\n",
    "net.feedforward(inp)"
   ]
  },
  {
   "cell_type": "code",
   "execution_count": null,
   "metadata": {
    "collapsed": true
   },
   "outputs": [],
   "source": []
  },
  {
   "cell_type": "code",
   "execution_count": null,
   "metadata": {
    "collapsed": true
   },
   "outputs": [],
   "source": []
  }
 ],
 "metadata": {
  "kernelspec": {
   "display_name": "Python 3",
   "language": "python",
   "name": "python3"
  },
  "language_info": {
   "codemirror_mode": {
    "name": "ipython",
    "version": 3
   },
   "file_extension": ".py",
   "mimetype": "text/x-python",
   "name": "python",
   "nbconvert_exporter": "python",
   "pygments_lexer": "ipython3",
   "version": "3.5.3"
  }
 },
 "nbformat": 4,
 "nbformat_minor": 2
}
